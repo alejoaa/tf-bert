{
 "cells": [
  {
   "cell_type": "markdown",
   "metadata": {},
   "source": [
    "# Gradio Interface"
   ]
  },
  {
   "cell_type": "markdown",
   "metadata": {},
   "source": [
    "This notebook allows to load a model to interact with it via a Gradio interface."
   ]
  },
  {
   "cell_type": "code",
   "execution_count": null,
   "metadata": {},
   "outputs": [],
   "source": [
    "# Imports\n",
    "import gradio as gr\n",
    "from pyhere import here\n",
    "from transformers import AutoModelForTokenClassification, AutoTokenizer, pipeline"
   ]
  },
  {
   "cell_type": "code",
   "execution_count": null,
   "metadata": {},
   "outputs": [],
   "source": [
    "# Load model and tokenizer\n",
    "model_checkpoint = str(here(\"mlruns/extri/test_run/checkpoint-268\"))\n",
    "\n",
    "model = AutoModelForTokenClassification.from_pretrained(model_checkpoint)\n",
    "tokenizer = AutoTokenizer.from_pretrained(model_checkpoint)"
   ]
  },
  {
   "cell_type": "code",
   "execution_count": null,
   "metadata": {},
   "outputs": [],
   "source": [
    "# Create a NER pipeline\n",
    "ner_pipeline = pipeline(\n",
    "    task=\"ner\",\n",
    "    model=model,\n",
    "    tokenizer=tokenizer,\n",
    "    aggregation_strategy=\"simple\"\n",
    ")"
   ]
  },
  {
   "cell_type": "code",
   "execution_count": null,
   "metadata": {},
   "outputs": [],
   "source": [
    "\n",
    "# Function for output of the interface\n",
    "def ner(text):\n",
    "    output = ner_pipeline(text)\n",
    "    return {\"text\": text, \"entities\": output}    \n",
    "\n",
    "\n",
    "# Close existing Gradio interfaces\n",
    "gr.close_all()\n",
    "\n",
    "\n",
    "# Examples to be shown in the interface\n",
    "examples = [\n",
    "    \"Chromatin immunoprecipitation revealed recruitment of Sp1 and to lesser extent that of E2F1 and KLF6 to the DAPK2 promoter.\",\n",
    "]\n",
    "\n",
    "# Create Gradio interface instance\n",
    "demo = gr.Interface(ner,\n",
    "             gr.Textbox(placeholder=\"Enter sentence here...\"), \n",
    "             gr.HighlightedText(color_map={\"TRANSCRIPTION_FACTOR\": \"#D6D77F\", \"TARGET_GENE\": \"#01DFED\"}),\n",
    "            #  gr.HighlightedText(),\n",
    "             examples=examples,\n",
    "             theme= gr.themes.Base(),\n",
    "             allow_flagging=\"never\"\n",
    "             )\n",
    "\n",
    "# Launch Gradio demo\n",
    "demo.launch()\n"
   ]
  }
 ],
 "metadata": {
  "kernelspec": {
   "display_name": "Python 3",
   "language": "python",
   "name": "python3"
  },
  "language_info": {
   "codemirror_mode": {
    "name": "ipython",
    "version": 3
   },
   "file_extension": ".py",
   "mimetype": "text/x-python",
   "name": "python",
   "nbconvert_exporter": "python",
   "pygments_lexer": "ipython3",
   "version": "3.9.16"
  }
 },
 "nbformat": 4,
 "nbformat_minor": 2
}
